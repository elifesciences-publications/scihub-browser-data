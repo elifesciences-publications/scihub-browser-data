{
 "cells": [
  {
   "cell_type": "markdown",
   "metadata": {},
   "source": [
    "# Create publisher-specific data for webapp\n",
    "\n",
    "Related to:\n",
    "\n",
    "+ https://github.com/greenelab/scihub/issues/44\n",
    "\n",
    "When underlying Scopus data has changed so the included publishers may have changed, consider `rm -r publishers` prior to rerunning this notebook."
   ]
  },
  {
   "cell_type": "code",
   "execution_count": 1,
   "metadata": {
    "collapsed": true
   },
   "outputs": [],
   "source": [
    "import pathlib\n",
    "import json\n",
    "\n",
    "import pandas"
   ]
  },
  {
   "cell_type": "code",
   "execution_count": 2,
   "metadata": {},
   "outputs": [
    {
     "data": {
      "text/plain": [
       "{'scihub_url': 'https://github.com/greenelab/scihub/raw/6ed0f5a3fca9cf8142b8adda70ca16844b792e35/',\n",
       " 'scopus_url': 'https://github.com/dhimmel/scopus/raw/50171219c2b2261bd2529f8ca354e4ba25725626/'}"
      ]
     },
     "execution_count": 2,
     "metadata": {},
     "output_type": "execute_result"
    }
   ],
   "source": [
    "path = pathlib.Path('00.configuration.json')\n",
    "config = json.loads(path.read_text())\n",
    "config"
   ]
  },
  {
   "cell_type": "markdown",
   "metadata": {},
   "source": [
    "## Read publisher slugs"
   ]
  },
  {
   "cell_type": "code",
   "execution_count": 3,
   "metadata": {},
   "outputs": [
    {
     "data": {
      "text/html": [
       "<div>\n",
       "<style>\n",
       "    .dataframe thead tr:only-child th {\n",
       "        text-align: right;\n",
       "    }\n",
       "\n",
       "    .dataframe thead th {\n",
       "        text-align: left;\n",
       "    }\n",
       "\n",
       "    .dataframe tbody tr th {\n",
       "        vertical-align: top;\n",
       "    }\n",
       "</style>\n",
       "<table border=\"1\" class=\"dataframe\">\n",
       "  <thead>\n",
       "    <tr style=\"text-align: right;\">\n",
       "      <th></th>\n",
       "      <th>main_publisher_slug</th>\n",
       "      <th>main_publisher</th>\n",
       "      <th>n_journals</th>\n",
       "      <th>name_variants</th>\n",
       "    </tr>\n",
       "  </thead>\n",
       "  <tbody>\n",
       "    <tr>\n",
       "      <th>0</th>\n",
       "      <td>1105-media-inc</td>\n",
       "      <td>1105 Media Inc.</td>\n",
       "      <td>1</td>\n",
       "      <td>1</td>\n",
       "    </tr>\n",
       "    <tr>\n",
       "      <th>1</th>\n",
       "      <td>3g-publishing</td>\n",
       "      <td>3G Publishing</td>\n",
       "      <td>1</td>\n",
       "      <td>1</td>\n",
       "    </tr>\n",
       "  </tbody>\n",
       "</table>\n",
       "</div>"
      ],
      "text/plain": [
       "  main_publisher_slug   main_publisher  n_journals  name_variants\n",
       "0      1105-media-inc  1105 Media Inc.           1              1\n",
       "1       3g-publishing    3G Publishing           1              1"
      ]
     },
     "execution_count": 3,
     "metadata": {},
     "output_type": "execute_result"
    }
   ],
   "source": [
    "url = config['scopus_url'] + 'data/publishers.tsv'\n",
    "publisher_df = pandas.read_table(url)\n",
    "name_to_slug = dict(zip(publisher_df.main_publisher, publisher_df.main_publisher_slug))\n",
    "publisher_df.head(2)"
   ]
  },
  {
   "cell_type": "markdown",
   "metadata": {},
   "source": [
    "## Directory setup"
   ]
  },
  {
   "cell_type": "code",
   "execution_count": 4,
   "metadata": {
    "collapsed": true
   },
   "outputs": [],
   "source": [
    "publishers_dir = pathlib.Path('publishers')\n",
    "publishers_dir.mkdir(exist_ok=True)\n",
    "\n",
    "def get_publisher_dir(name):\n",
    "    slug = name_to_slug[name]\n",
    "    publisher_dir = publishers_dir.joinpath(slug)\n",
    "    publisher_dir.mkdir(exist_ok=True)\n",
    "    return publisher_dir"
   ]
  },
  {
   "cell_type": "markdown",
   "metadata": {},
   "source": [
    "## Publisher JSON summaries"
   ]
  },
  {
   "cell_type": "code",
   "execution_count": 5,
   "metadata": {},
   "outputs": [
    {
     "data": {
      "text/html": [
       "<div>\n",
       "<style>\n",
       "    .dataframe thead tr:only-child th {\n",
       "        text-align: right;\n",
       "    }\n",
       "\n",
       "    .dataframe thead th {\n",
       "        text-align: left;\n",
       "    }\n",
       "\n",
       "    .dataframe tbody tr th {\n",
       "        vertical-align: top;\n",
       "    }\n",
       "</style>\n",
       "<table border=\"1\" class=\"dataframe\">\n",
       "  <thead>\n",
       "    <tr style=\"text-align: right;\">\n",
       "      <th></th>\n",
       "      <th>main_publisher</th>\n",
       "      <th>downloads</th>\n",
       "      <th>visitors</th>\n",
       "      <th>countries</th>\n",
       "      <th>days</th>\n",
       "      <th>months</th>\n",
       "      <th>n_articles_requested</th>\n",
       "      <th>n_articles</th>\n",
       "    </tr>\n",
       "  </thead>\n",
       "  <tbody>\n",
       "    <tr>\n",
       "      <th>0</th>\n",
       "      <td>A Escola</td>\n",
       "      <td>0.0</td>\n",
       "      <td>0.0</td>\n",
       "      <td>0.0</td>\n",
       "      <td>0.0</td>\n",
       "      <td>0.0</td>\n",
       "      <td>0</td>\n",
       "      <td>68</td>\n",
       "    </tr>\n",
       "    <tr>\n",
       "      <th>1</th>\n",
       "      <td>A and V Publication</td>\n",
       "      <td>0.0</td>\n",
       "      <td>0.0</td>\n",
       "      <td>0.0</td>\n",
       "      <td>0.0</td>\n",
       "      <td>0.0</td>\n",
       "      <td>0</td>\n",
       "      <td>312</td>\n",
       "    </tr>\n",
       "  </tbody>\n",
       "</table>\n",
       "</div>"
      ],
      "text/plain": [
       "        main_publisher  downloads  visitors  countries  days  months  \\\n",
       "0             A Escola        0.0       0.0        0.0   0.0     0.0   \n",
       "1  A and V Publication        0.0       0.0        0.0   0.0     0.0   \n",
       "\n",
       "   n_articles_requested  n_articles  \n",
       "0                     0          68  \n",
       "1                     0         312  "
      ]
     },
     "execution_count": 5,
     "metadata": {},
     "output_type": "execute_result"
    }
   ],
   "source": [
    "url = config['scihub_url'] + 'data/scihub-log-publisher-averages.tsv'\n",
    "log_df = pandas.read_table(url)\n",
    "assert not log_df.main_publisher.duplicated().any()\n",
    "log_df.head(2)"
   ]
  },
  {
   "cell_type": "code",
   "execution_count": 6,
   "metadata": {},
   "outputs": [
    {
     "data": {
      "text/plain": [
       "{'countries': 0.00512,\n",
       " 'days': 0.00512,\n",
       " 'downloads': 0.00512,\n",
       " 'months': 0.00512,\n",
       " 'n_articles': 976,\n",
       " 'n_articles_requested': 5,\n",
       " 'visitors': 0.00512}"
      ]
     },
     "execution_count": 6,
     "metadata": {},
     "output_type": "execute_result"
    }
   ],
   "source": [
    "publisher_to_log_summary = json.loads(\n",
    "    log_df\n",
    "    .round(5)\n",
    "    .set_index('main_publisher')\n",
    "    .loc[:, 'downloads':'n_articles']\n",
    "    .to_json(orient='index', double_precision=8)\n",
    ")\n",
    "\n",
    "# PeerJ\n",
    "publisher_to_log_summary['PeerJ']"
   ]
  },
  {
   "cell_type": "markdown",
   "metadata": {},
   "source": [
    "## Read publisher coverage"
   ]
  },
  {
   "cell_type": "code",
   "execution_count": 7,
   "metadata": {},
   "outputs": [
    {
     "data": {
      "text/html": [
       "<div>\n",
       "<style>\n",
       "    .dataframe thead tr:only-child th {\n",
       "        text-align: right;\n",
       "    }\n",
       "\n",
       "    .dataframe thead th {\n",
       "        text-align: left;\n",
       "    }\n",
       "\n",
       "    .dataframe tbody tr th {\n",
       "        vertical-align: top;\n",
       "    }\n",
       "</style>\n",
       "<table border=\"1\" class=\"dataframe\">\n",
       "  <thead>\n",
       "    <tr style=\"text-align: right;\">\n",
       "      <th></th>\n",
       "      <th>publisher_name</th>\n",
       "      <th>journals</th>\n",
       "      <th>scihub</th>\n",
       "      <th>crossref_open_access</th>\n",
       "      <th>crossref_active</th>\n",
       "      <th>crossref</th>\n",
       "      <th>coverage</th>\n",
       "    </tr>\n",
       "  </thead>\n",
       "  <tbody>\n",
       "    <tr>\n",
       "      <th>99</th>\n",
       "      <td>A and V Publication</td>\n",
       "      <td>1</td>\n",
       "      <td>0</td>\n",
       "      <td>0</td>\n",
       "      <td>765</td>\n",
       "      <td>765</td>\n",
       "      <td>0.0</td>\n",
       "    </tr>\n",
       "    <tr>\n",
       "      <th>100</th>\n",
       "      <td>A B Academic Publishers</td>\n",
       "      <td>1</td>\n",
       "      <td>318</td>\n",
       "      <td>0</td>\n",
       "      <td>0</td>\n",
       "      <td>318</td>\n",
       "      <td>1.0</td>\n",
       "    </tr>\n",
       "  </tbody>\n",
       "</table>\n",
       "</div>"
      ],
      "text/plain": [
       "              publisher_name  journals  scihub  crossref_open_access  \\\n",
       "99       A and V Publication         1       0                     0   \n",
       "100  A B Academic Publishers         1     318                     0   \n",
       "\n",
       "     crossref_active  crossref  coverage  \n",
       "99               765       765       0.0  \n",
       "100                0       318       1.0  "
      ]
     },
     "execution_count": 7,
     "metadata": {},
     "output_type": "execute_result"
    }
   ],
   "source": [
    "url = config['scihub_url'] + 'data/coverage-by-category.tsv'\n",
    "publisher_df = (\n",
    "    pandas.read_table(url)\n",
    "    .query(\"facet == 'Publisher'\")\n",
    "    .drop('facet', axis=1)\n",
    "    .rename(columns={'category': 'publisher_name'})\n",
    ")\n",
    "publisher_df.head(2)"
   ]
  },
  {
   "cell_type": "code",
   "execution_count": 8,
   "metadata": {},
   "outputs": [
    {
     "data": {
      "text/plain": [
       "3832"
      ]
     },
     "execution_count": 8,
     "metadata": {},
     "output_type": "execute_result"
    }
   ],
   "source": [
    "publisher_infos = json.loads(publisher_df.to_json(orient='records', double_precision=8))\n",
    "len(publisher_infos)"
   ]
  },
  {
   "cell_type": "code",
   "execution_count": 9,
   "metadata": {},
   "outputs": [],
   "source": [
    "for publisher_info in publisher_infos:\n",
    "    name = publisher_info['publisher_name']\n",
    "    publisher_info['publisher_slug'] = name_to_slug[name]\n",
    "    \n",
    "    for key, value in list(publisher_info.items()):\n",
    "        # Delete key-value pairs with missing value\n",
    "        if pandas.isnull(value):\n",
    "            del publisher_info[key]\n",
    "\n",
    "    # Add access log summary if existent\n",
    "    if name in publisher_to_log_summary:\n",
    "        publisher_info['access_logs'] = publisher_to_log_summary[name]\n",
    "\n",
    "    # Export as JSON\n",
    "    publisher_dir = get_publisher_dir(name)\n",
    "    path = publisher_dir.joinpath('info.json')\n",
    "    with path.open('w') as write_file:\n",
    "        json.dump(publisher_info, write_file, indent=2)"
   ]
  },
  {
   "cell_type": "markdown",
   "metadata": {},
   "source": [
    "## Yearly coverage"
   ]
  },
  {
   "cell_type": "code",
   "execution_count": 10,
   "metadata": {},
   "outputs": [
    {
     "data": {
      "text/html": [
       "<div>\n",
       "<style>\n",
       "    .dataframe thead tr:only-child th {\n",
       "        text-align: right;\n",
       "    }\n",
       "\n",
       "    .dataframe thead th {\n",
       "        text-align: left;\n",
       "    }\n",
       "\n",
       "    .dataframe tbody tr th {\n",
       "        vertical-align: top;\n",
       "    }\n",
       "</style>\n",
       "<table border=\"1\" class=\"dataframe\">\n",
       "  <thead>\n",
       "    <tr style=\"text-align: right;\">\n",
       "      <th></th>\n",
       "      <th>main_publisher</th>\n",
       "      <th>open_access</th>\n",
       "      <th>year</th>\n",
       "      <th>scihub</th>\n",
       "      <th>crossref</th>\n",
       "      <th>coverage</th>\n",
       "      <th>scihub_journals</th>\n",
       "      <th>crossref_journals</th>\n",
       "    </tr>\n",
       "  </thead>\n",
       "  <tbody>\n",
       "    <tr>\n",
       "      <th>0</th>\n",
       "      <td>A B Academic Publishers</td>\n",
       "      <td>0</td>\n",
       "      <td>1980</td>\n",
       "      <td>27</td>\n",
       "      <td>27</td>\n",
       "      <td>1.0</td>\n",
       "      <td>1</td>\n",
       "      <td>1</td>\n",
       "    </tr>\n",
       "    <tr>\n",
       "      <th>1</th>\n",
       "      <td>A B Academic Publishers</td>\n",
       "      <td>0</td>\n",
       "      <td>1982</td>\n",
       "      <td>11</td>\n",
       "      <td>11</td>\n",
       "      <td>1.0</td>\n",
       "      <td>1</td>\n",
       "      <td>1</td>\n",
       "    </tr>\n",
       "  </tbody>\n",
       "</table>\n",
       "</div>"
      ],
      "text/plain": [
       "            main_publisher  open_access  year  scihub  crossref  coverage  \\\n",
       "0  A B Academic Publishers            0  1980      27        27       1.0   \n",
       "1  A B Academic Publishers            0  1982      11        11       1.0   \n",
       "\n",
       "   scihub_journals  crossref_journals  \n",
       "0                1                  1  \n",
       "1                1                  1  "
      ]
     },
     "execution_count": 10,
     "metadata": {},
     "output_type": "execute_result"
    }
   ],
   "source": [
    "url = config['scihub_url'] + 'data/year-publisher-coverage-by-access.tsv.xz'\n",
    "publisher_year_df = pandas.read_table(url)\n",
    "publisher_year_df.head(2)"
   ]
  },
  {
   "cell_type": "code",
   "execution_count": 11,
   "metadata": {},
   "outputs": [
    {
     "data": {
      "text/plain": [
       "3829"
      ]
     },
     "execution_count": 11,
     "metadata": {},
     "output_type": "execute_result"
    }
   ],
   "source": [
    "publisher_year_df.main_publisher.nunique()"
   ]
  },
  {
   "cell_type": "code",
   "execution_count": 12,
   "metadata": {},
   "outputs": [],
   "source": [
    "for publisher, year_df in publisher_year_df.groupby('main_publisher'):\n",
    "    publisher_dir = get_publisher_dir(publisher)\n",
    "    path = publisher_dir.joinpath('yearly-coverage.tsv')\n",
    "    year_df = year_df[['year', 'open_access', 'scihub', 'crossref', 'scihub_journals', 'crossref_journals']]\n",
    "    year_df.to_csv(str(path), sep='\\t', index=False)"
   ]
  },
  {
   "cell_type": "markdown",
   "metadata": {},
   "source": [
    "## Access distribution quantiles"
   ]
  },
  {
   "cell_type": "code",
   "execution_count": 13,
   "metadata": {},
   "outputs": [
    {
     "data": {
      "text/html": [
       "<div>\n",
       "<style>\n",
       "    .dataframe thead tr:only-child th {\n",
       "        text-align: right;\n",
       "    }\n",
       "\n",
       "    .dataframe thead th {\n",
       "        text-align: left;\n",
       "    }\n",
       "\n",
       "    .dataframe tbody tr th {\n",
       "        vertical-align: top;\n",
       "    }\n",
       "</style>\n",
       "<table border=\"1\" class=\"dataframe\">\n",
       "  <thead>\n",
       "    <tr style=\"text-align: right;\">\n",
       "      <th></th>\n",
       "      <th>main_publisher</th>\n",
       "      <th>quantile</th>\n",
       "      <th>downloads</th>\n",
       "      <th>visitors</th>\n",
       "      <th>countries</th>\n",
       "      <th>days</th>\n",
       "      <th>months</th>\n",
       "    </tr>\n",
       "  </thead>\n",
       "  <tbody>\n",
       "    <tr>\n",
       "      <th>0</th>\n",
       "      <td>A Escola</td>\n",
       "      <td>0.00</td>\n",
       "      <td>0.0</td>\n",
       "      <td>0.0</td>\n",
       "      <td>0.0</td>\n",
       "      <td>0.0</td>\n",
       "      <td>0.0</td>\n",
       "    </tr>\n",
       "    <tr>\n",
       "      <th>1</th>\n",
       "      <td>A Escola</td>\n",
       "      <td>0.01</td>\n",
       "      <td>0.0</td>\n",
       "      <td>0.0</td>\n",
       "      <td>0.0</td>\n",
       "      <td>0.0</td>\n",
       "      <td>0.0</td>\n",
       "    </tr>\n",
       "  </tbody>\n",
       "</table>\n",
       "</div>"
      ],
      "text/plain": [
       "  main_publisher  quantile  downloads  visitors  countries  days  months\n",
       "0       A Escola      0.00        0.0       0.0        0.0   0.0     0.0\n",
       "1       A Escola      0.01        0.0       0.0        0.0   0.0     0.0"
      ]
     },
     "execution_count": 13,
     "metadata": {},
     "output_type": "execute_result"
    }
   ],
   "source": [
    "url = config['scihub_url'] + 'data/scihub-log-publisher-quantiles.tsv.xz'\n",
    "quantiles_df = pandas.read_table(url, compression='xz')\n",
    "quantiles_df.head(2)"
   ]
  },
  {
   "cell_type": "code",
   "execution_count": 14,
   "metadata": {},
   "outputs": [
    {
     "data": {
      "text/plain": [
       "2814"
      ]
     },
     "execution_count": 14,
     "metadata": {},
     "output_type": "execute_result"
    }
   ],
   "source": [
    "quantiles_df.main_publisher.nunique()"
   ]
  },
  {
   "cell_type": "code",
   "execution_count": 15,
   "metadata": {},
   "outputs": [],
   "source": [
    "for publisher, quantile_df in quantiles_df.groupby('main_publisher'):\n",
    "    publisher_dir = get_publisher_dir(publisher)\n",
    "    path = publisher_dir.joinpath('access-quantiles.tsv')\n",
    "    quantile_df = quantile_df[['quantile', 'downloads', 'visitors', 'countries', 'days']]\n",
    "    quantile_df.to_csv(str(path), sep='\\t', index=False)"
   ]
  },
  {
   "cell_type": "markdown",
   "metadata": {},
   "source": [
    "## Top 100 accessed articles per publisher (as per Sci-Hub access logs)"
   ]
  },
  {
   "cell_type": "code",
   "execution_count": 16,
   "metadata": {},
   "outputs": [
    {
     "data": {
      "text/html": [
       "<div>\n",
       "<style>\n",
       "    .dataframe thead tr:only-child th {\n",
       "        text-align: right;\n",
       "    }\n",
       "\n",
       "    .dataframe thead th {\n",
       "        text-align: left;\n",
       "    }\n",
       "\n",
       "    .dataframe tbody tr th {\n",
       "        vertical-align: top;\n",
       "    }\n",
       "</style>\n",
       "<table border=\"1\" class=\"dataframe\">\n",
       "  <thead>\n",
       "    <tr style=\"text-align: right;\">\n",
       "      <th></th>\n",
       "      <th>scopus_id</th>\n",
       "      <th>doi</th>\n",
       "      <th>downloads</th>\n",
       "      <th>visitors</th>\n",
       "      <th>countries</th>\n",
       "      <th>days</th>\n",
       "      <th>months</th>\n",
       "      <th>issued</th>\n",
       "      <th>authors</th>\n",
       "      <th>title</th>\n",
       "      <th>title_name</th>\n",
       "      <th>main_publisher</th>\n",
       "      <th>year</th>\n",
       "    </tr>\n",
       "  </thead>\n",
       "  <tbody>\n",
       "    <tr>\n",
       "      <th>0</th>\n",
       "      <td>17910</td>\n",
       "      <td>10.7872/crya.v36.iss1.2015.65</td>\n",
       "      <td>11</td>\n",
       "      <td>9</td>\n",
       "      <td>2</td>\n",
       "      <td>7</td>\n",
       "      <td>3</td>\n",
       "      <td>2015-02</td>\n",
       "      <td>Dimitar Berov, Enric Ballesteros, Marta Sales,...</td>\n",
       "      <td>Reinstatement of Species Rank for Cystoseira ...</td>\n",
       "      <td>Cryptogamie, Algologie</td>\n",
       "      <td>A.D.A.C.</td>\n",
       "      <td>2015</td>\n",
       "    </tr>\n",
       "    <tr>\n",
       "      <th>1</th>\n",
       "      <td>110036</td>\n",
       "      <td>10.7872/cryb.v35.iss2.2014.133</td>\n",
       "      <td>9</td>\n",
       "      <td>9</td>\n",
       "      <td>2</td>\n",
       "      <td>9</td>\n",
       "      <td>4</td>\n",
       "      <td>2014-04</td>\n",
       "      <td>Joan Bruno Silva, Nivea Dias Dos Santos, Kátia...</td>\n",
       "      <td>Beta-diversity: Effect of Geographical Distanc...</td>\n",
       "      <td>Cryptogamie, Bryologie</td>\n",
       "      <td>A.D.A.C.</td>\n",
       "      <td>2014</td>\n",
       "    </tr>\n",
       "  </tbody>\n",
       "</table>\n",
       "</div>"
      ],
      "text/plain": [
       "   scopus_id                             doi  downloads  visitors  countries  \\\n",
       "0      17910   10.7872/crya.v36.iss1.2015.65         11         9          2   \n",
       "1     110036  10.7872/cryb.v35.iss2.2014.133          9         9          2   \n",
       "\n",
       "   days  months   issued                                            authors  \\\n",
       "0     7       3  2015-02  Dimitar Berov, Enric Ballesteros, Marta Sales,...   \n",
       "1     9       4  2014-04  Joan Bruno Silva, Nivea Dias Dos Santos, Kátia...   \n",
       "\n",
       "                                               title              title_name  \\\n",
       "0   Reinstatement of Species Rank for Cystoseira ...  Cryptogamie, Algologie   \n",
       "1  Beta-diversity: Effect of Geographical Distanc...  Cryptogamie, Bryologie   \n",
       "\n",
       "  main_publisher  year  \n",
       "0       A.D.A.C.  2015  \n",
       "1       A.D.A.C.  2014  "
      ]
     },
     "execution_count": 16,
     "metadata": {},
     "output_type": "execute_result"
    }
   ],
   "source": [
    "url = config['scihub_url'] + 'data/scihub-log-publisher-top-articles.tsv.xz'\n",
    "top_articles_df = pandas.read_table(url, compression='xz')\n",
    "top_articles_df['year'] = top_articles_df.issued.str.slice(0, 4)\n",
    "top_articles_df.head(2)"
   ]
  },
  {
   "cell_type": "code",
   "execution_count": 17,
   "metadata": {},
   "outputs": [
    {
     "data": {
      "text/plain": [
       "1153"
      ]
     },
     "execution_count": 17,
     "metadata": {},
     "output_type": "execute_result"
    }
   ],
   "source": [
    "top_articles_df.main_publisher.nunique()"
   ]
  },
  {
   "cell_type": "code",
   "execution_count": 18,
   "metadata": {},
   "outputs": [],
   "source": [
    "for publisher, top_df in top_articles_df.groupby('main_publisher'):\n",
    "    publisher_dir = get_publisher_dir(publisher)\n",
    "    path = publisher_dir.joinpath('top-articles.tsv')\n",
    "    top_df = top_df[['doi', 'title', 'authors', 'title_name', 'year', 'downloads', 'visitors', 'countries']]\n",
    "    top_df.to_csv(str(path), sep='\\t', index=False)"
   ]
  }
 ],
 "metadata": {
  "kernelspec": {
   "display_name": "Python [conda env:scihub]",
   "language": "python",
   "name": "conda-env-scihub-py"
  },
  "language_info": {
   "codemirror_mode": {
    "name": "ipython",
    "version": 3
   },
   "file_extension": ".py",
   "mimetype": "text/x-python",
   "name": "python",
   "nbconvert_exporter": "python",
   "pygments_lexer": "ipython3",
   "version": "3.6.0"
  }
 },
 "nbformat": 4,
 "nbformat_minor": 2
}
