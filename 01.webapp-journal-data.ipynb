{
 "cells": [
  {
   "cell_type": "markdown",
   "metadata": {},
   "source": [
    "# Create journal-specific data for webapp\n",
    "\n",
    "Related to:\n",
    "\n",
    "+ https://github.com/greenelab/scihub/issues/14\n",
    "+ https://github.com/greenelab/scihub/pull/37"
   ]
  },
  {
   "cell_type": "code",
   "execution_count": 1,
   "metadata": {
    "collapsed": true
   },
   "outputs": [],
   "source": [
    "import pathlib\n",
    "\n",
    "import pandas"
   ]
  },
  {
   "cell_type": "code",
   "execution_count": 2,
   "metadata": {
    "collapsed": true
   },
   "outputs": [],
   "source": [
    "scihub_data_url = 'https://github.com/greenelab/scihub/raw/cc62c4d0ddca811f536940e20ebbbc0a31562777/data'"
   ]
  },
  {
   "cell_type": "code",
   "execution_count": 3,
   "metadata": {
    "collapsed": true
   },
   "outputs": [],
   "source": [
    "journals_dir = pathlib.Path('journals')\n",
    "journals_dir.mkdir(exist_ok=True)\n",
    "\n",
    "def get_journal_dir(scopus_id):\n",
    "    journal_dir = journals_dir.joinpath(str(scopus_id))\n",
    "    journal_dir.mkdir(exist_ok=True)\n",
    "    return journal_dir"
   ]
  },
  {
   "cell_type": "markdown",
   "metadata": {},
   "source": [
    "## Yearly coverage by journal"
   ]
  },
  {
   "cell_type": "code",
   "execution_count": 4,
   "metadata": {},
   "outputs": [
    {
     "data": {
      "text/html": [
       "<div>\n",
       "<style>\n",
       "    .dataframe thead tr:only-child th {\n",
       "        text-align: right;\n",
       "    }\n",
       "\n",
       "    .dataframe thead th {\n",
       "        text-align: left;\n",
       "    }\n",
       "\n",
       "    .dataframe tbody tr th {\n",
       "        vertical-align: top;\n",
       "    }\n",
       "</style>\n",
       "<table border=\"1\" class=\"dataframe\">\n",
       "  <thead>\n",
       "    <tr style=\"text-align: right;\">\n",
       "      <th></th>\n",
       "      <th>scopus_id</th>\n",
       "      <th>year</th>\n",
       "      <th>scihub</th>\n",
       "      <th>crossref</th>\n",
       "      <th>coverage</th>\n",
       "    </tr>\n",
       "  </thead>\n",
       "  <tbody>\n",
       "    <tr>\n",
       "      <th>0</th>\n",
       "      <td>12001</td>\n",
       "      <td>1958</td>\n",
       "      <td>30</td>\n",
       "      <td>52</td>\n",
       "      <td>0.57692</td>\n",
       "    </tr>\n",
       "    <tr>\n",
       "      <th>1</th>\n",
       "      <td>12001</td>\n",
       "      <td>1959</td>\n",
       "      <td>18</td>\n",
       "      <td>36</td>\n",
       "      <td>0.50000</td>\n",
       "    </tr>\n",
       "  </tbody>\n",
       "</table>\n",
       "</div>"
      ],
      "text/plain": [
       "   scopus_id  year  scihub  crossref  coverage\n",
       "0      12001  1958      30        52   0.57692\n",
       "1      12001  1959      18        36   0.50000"
      ]
     },
     "execution_count": 4,
     "metadata": {},
     "output_type": "execute_result"
    }
   ],
   "source": [
    "url = f'{scihub_data_url}/journal-year-coverage.tsv.xz'\n",
    "journal_year_df = pandas.read_table(url, compression='xz')\n",
    "journal_year_df.head(2)"
   ]
  },
  {
   "cell_type": "code",
   "execution_count": 5,
   "metadata": {},
   "outputs": [],
   "source": [
    "for scopus_id, year_df in journal_year_df.groupby('scopus_id'):\n",
    "    journal_dir = get_journal_dir(scopus_id)\n",
    "    path = journal_dir.joinpath(f'yearly-coverage-{scopus_id}.tsv')\n",
    "    year_df = year_df[['year', 'scihub', 'crossref']]\n",
    "    year_df.to_csv(str(path), sep='\\t', index=False)"
   ]
  },
  {
   "cell_type": "markdown",
   "metadata": {},
   "source": [
    "## Article access quantiles (as per Sci-Hub access logs)"
   ]
  },
  {
   "cell_type": "code",
   "execution_count": 6,
   "metadata": {},
   "outputs": [
    {
     "data": {
      "text/html": [
       "<div>\n",
       "<style>\n",
       "    .dataframe thead tr:only-child th {\n",
       "        text-align: right;\n",
       "    }\n",
       "\n",
       "    .dataframe thead th {\n",
       "        text-align: left;\n",
       "    }\n",
       "\n",
       "    .dataframe tbody tr th {\n",
       "        vertical-align: top;\n",
       "    }\n",
       "</style>\n",
       "<table border=\"1\" class=\"dataframe\">\n",
       "  <thead>\n",
       "    <tr style=\"text-align: right;\">\n",
       "      <th></th>\n",
       "      <th>scopus_id</th>\n",
       "      <th>quantile</th>\n",
       "      <th>downloads</th>\n",
       "      <th>visitors</th>\n",
       "      <th>countries</th>\n",
       "      <th>days</th>\n",
       "      <th>months</th>\n",
       "    </tr>\n",
       "  </thead>\n",
       "  <tbody>\n",
       "    <tr>\n",
       "      <th>0</th>\n",
       "      <td>12001</td>\n",
       "      <td>0.00</td>\n",
       "      <td>0.0</td>\n",
       "      <td>0.0</td>\n",
       "      <td>0.0</td>\n",
       "      <td>0.0</td>\n",
       "      <td>0.0</td>\n",
       "    </tr>\n",
       "    <tr>\n",
       "      <th>1</th>\n",
       "      <td>12001</td>\n",
       "      <td>0.01</td>\n",
       "      <td>0.0</td>\n",
       "      <td>0.0</td>\n",
       "      <td>0.0</td>\n",
       "      <td>0.0</td>\n",
       "      <td>0.0</td>\n",
       "    </tr>\n",
       "  </tbody>\n",
       "</table>\n",
       "</div>"
      ],
      "text/plain": [
       "   scopus_id  quantile  downloads  visitors  countries  days  months\n",
       "0      12001      0.00        0.0       0.0        0.0   0.0     0.0\n",
       "1      12001      0.01        0.0       0.0        0.0   0.0     0.0"
      ]
     },
     "execution_count": 6,
     "metadata": {},
     "output_type": "execute_result"
    }
   ],
   "source": [
    "url = f'{scihub_data_url}/scihub-log-journal-quantiles.tsv.xz'\n",
    "quantiles_df = pandas.read_table(url, compression='xz')\n",
    "quantiles_df.head(2)"
   ]
  },
  {
   "cell_type": "code",
   "execution_count": 7,
   "metadata": {
    "collapsed": true
   },
   "outputs": [],
   "source": [
    "for scopus_id, quantile_df in quantiles_df.groupby('scopus_id'):\n",
    "    journal_dir = get_journal_dir(scopus_id)\n",
    "    path = journal_dir.joinpath(f'access-quantiles-{scopus_id}.tsv')\n",
    "    quantile_df = quantile_df[['quantile', 'downloads', 'visitors', 'countries', 'days']]\n",
    "    quantile_df.to_csv(str(path), sep='\\t', index=False)"
   ]
  },
  {
   "cell_type": "markdown",
   "metadata": {},
   "source": [
    "## Top accessed articles per journal (as per Sci-Hub access logs)"
   ]
  },
  {
   "cell_type": "code",
   "execution_count": 8,
   "metadata": {},
   "outputs": [
    {
     "data": {
      "text/html": [
       "<div>\n",
       "<style>\n",
       "    .dataframe thead tr:only-child th {\n",
       "        text-align: right;\n",
       "    }\n",
       "\n",
       "    .dataframe thead th {\n",
       "        text-align: left;\n",
       "    }\n",
       "\n",
       "    .dataframe tbody tr th {\n",
       "        vertical-align: top;\n",
       "    }\n",
       "</style>\n",
       "<table border=\"1\" class=\"dataframe\">\n",
       "  <thead>\n",
       "    <tr style=\"text-align: right;\">\n",
       "      <th></th>\n",
       "      <th>scopus_id</th>\n",
       "      <th>doi</th>\n",
       "      <th>downloads</th>\n",
       "      <th>visitors</th>\n",
       "      <th>countries</th>\n",
       "      <th>days</th>\n",
       "      <th>months</th>\n",
       "      <th>issued</th>\n",
       "      <th>authors</th>\n",
       "      <th>title</th>\n",
       "      <th>year</th>\n",
       "    </tr>\n",
       "  </thead>\n",
       "  <tbody>\n",
       "    <tr>\n",
       "      <th>0</th>\n",
       "      <td>12001</td>\n",
       "      <td>10.1002/jeab.133</td>\n",
       "      <td>2</td>\n",
       "      <td>2</td>\n",
       "      <td>2</td>\n",
       "      <td>2</td>\n",
       "      <td>2</td>\n",
       "      <td>2015-01</td>\n",
       "      <td>Warren K. Bickel, James MacKillop, Gregory J. ...</td>\n",
       "      <td>Experimental manipulations of delay discountin...</td>\n",
       "      <td>2015</td>\n",
       "    </tr>\n",
       "    <tr>\n",
       "      <th>1</th>\n",
       "      <td>12001</td>\n",
       "      <td>10.1002/jeab.139</td>\n",
       "      <td>2</td>\n",
       "      <td>2</td>\n",
       "      <td>2</td>\n",
       "      <td>2</td>\n",
       "      <td>2</td>\n",
       "      <td>2015-03</td>\n",
       "      <td>Tal Shavit, Mosi Rosenboim</td>\n",
       "      <td>Is there time discounting for risk premium?</td>\n",
       "      <td>2015</td>\n",
       "    </tr>\n",
       "  </tbody>\n",
       "</table>\n",
       "</div>"
      ],
      "text/plain": [
       "   scopus_id               doi  downloads  visitors  countries  days  months  \\\n",
       "0      12001  10.1002/jeab.133          2         2          2     2       2   \n",
       "1      12001  10.1002/jeab.139          2         2          2     2       2   \n",
       "\n",
       "    issued                                            authors  \\\n",
       "0  2015-01  Warren K. Bickel, James MacKillop, Gregory J. ...   \n",
       "1  2015-03                         Tal Shavit, Mosi Rosenboim   \n",
       "\n",
       "                                               title  year  \n",
       "0  Experimental manipulations of delay discountin...  2015  \n",
       "1        Is there time discounting for risk premium?  2015  "
      ]
     },
     "execution_count": 8,
     "metadata": {},
     "output_type": "execute_result"
    }
   ],
   "source": [
    "url = f'{scihub_data_url}/scihub-log-journal-top-articles.tsv.xz'\n",
    "top_articles_df = pandas.read_table(url, compression='xz')\n",
    "top_articles_df['year'] = top_articles_df.issued.str.slice(0, 4)\n",
    "top_articles_df.head(2)"
   ]
  },
  {
   "cell_type": "code",
   "execution_count": 9,
   "metadata": {
    "collapsed": true
   },
   "outputs": [],
   "source": [
    "for scopus_id, top_df in top_articles_df.groupby('scopus_id'):\n",
    "    journal_dir = get_journal_dir(scopus_id)\n",
    "    path = journal_dir.joinpath(f'top-articles-{scopus_id}.tsv')\n",
    "    top_df = top_df[['doi', 'title', 'authors', 'year', 'downloads', 'visitors', 'countries']]\n",
    "    top_df.to_csv(str(path), sep='\\t', index=False)"
   ]
  }
 ],
 "metadata": {
  "anaconda-cloud": {},
  "kernelspec": {
   "display_name": "Python [conda env:scihub]",
   "language": "python",
   "name": "conda-env-scihub-py"
  },
  "language_info": {
   "codemirror_mode": {
    "name": "ipython",
    "version": 3
   },
   "file_extension": ".py",
   "mimetype": "text/x-python",
   "name": "python",
   "nbconvert_exporter": "python",
   "pygments_lexer": "ipython3",
   "version": "3.6.0"
  }
 },
 "nbformat": 4,
 "nbformat_minor": 2
}
