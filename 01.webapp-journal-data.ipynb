{
 "cells": [
  {
   "cell_type": "markdown",
   "metadata": {},
   "source": [
    "# Create journal-specific data for webapp\n",
    "\n",
    "Related to:\n",
    "\n",
    "+ https://github.com/greenelab/scihub/issues/14\n",
    "+ https://github.com/greenelab/scihub/pull/37\n",
    "\n",
    "When underlying Scopus data has changed so the included journals may have changed, consider `rm -r journals` prior to rerunning this notebook."
   ]
  },
  {
   "cell_type": "code",
   "execution_count": 1,
   "metadata": {
    "collapsed": true
   },
   "outputs": [],
   "source": [
    "import pathlib\n",
    "import json\n",
    "\n",
    "import pandas"
   ]
  },
  {
   "cell_type": "markdown",
   "metadata": {},
   "source": [
    "## Source data versions"
   ]
  },
  {
   "cell_type": "code",
   "execution_count": 2,
   "metadata": {},
   "outputs": [
    {
     "data": {
      "text/plain": [
       "{'scihub_url': 'https://github.com/greenelab/scihub/raw/6ed0f5a3fca9cf8142b8adda70ca16844b792e35/',\n",
       " 'scopus_url': 'https://github.com/dhimmel/scopus/raw/50171219c2b2261bd2529f8ca354e4ba25725626/'}"
      ]
     },
     "execution_count": 2,
     "metadata": {},
     "output_type": "execute_result"
    }
   ],
   "source": [
    "path = pathlib.Path('00.configuration.json')\n",
    "config = json.loads(path.read_text())\n",
    "config"
   ]
  },
  {
   "cell_type": "markdown",
   "metadata": {},
   "source": [
    "## Directory setup"
   ]
  },
  {
   "cell_type": "code",
   "execution_count": 3,
   "metadata": {
    "collapsed": true
   },
   "outputs": [],
   "source": [
    "journals_dir = pathlib.Path('journals')\n",
    "journals_dir.mkdir(exist_ok=True)\n",
    "\n",
    "def get_journal_dir(scopus_id):\n",
    "    journal_dir = journals_dir.joinpath(str(scopus_id))\n",
    "    journal_dir.mkdir(exist_ok=True)\n",
    "    return journal_dir"
   ]
  },
  {
   "cell_type": "markdown",
   "metadata": {},
   "source": [
    "## Journal JSON summaries"
   ]
  },
  {
   "cell_type": "code",
   "execution_count": 4,
   "metadata": {},
   "outputs": [
    {
     "data": {
      "text/html": [
       "<div>\n",
       "<style>\n",
       "    .dataframe thead tr:only-child th {\n",
       "        text-align: right;\n",
       "    }\n",
       "\n",
       "    .dataframe thead th {\n",
       "        text-align: left;\n",
       "    }\n",
       "\n",
       "    .dataframe tbody tr th {\n",
       "        vertical-align: top;\n",
       "    }\n",
       "</style>\n",
       "<table border=\"1\" class=\"dataframe\">\n",
       "  <thead>\n",
       "    <tr style=\"text-align: right;\">\n",
       "      <th></th>\n",
       "      <th>scopus_id</th>\n",
       "      <th>title_name</th>\n",
       "      <th>active</th>\n",
       "      <th>open_access</th>\n",
       "      <th>scihub</th>\n",
       "      <th>crossref</th>\n",
       "      <th>coverage</th>\n",
       "    </tr>\n",
       "  </thead>\n",
       "  <tbody>\n",
       "    <tr>\n",
       "      <th>0</th>\n",
       "      <td>12001</td>\n",
       "      <td>Journal of the Experimental Analysis of Behavior</td>\n",
       "      <td>1</td>\n",
       "      <td>0</td>\n",
       "      <td>2562</td>\n",
       "      <td>4400</td>\n",
       "      <td>0.58227</td>\n",
       "    </tr>\n",
       "    <tr>\n",
       "      <th>1</th>\n",
       "      <td>12002</td>\n",
       "      <td>Journal of the History of the Behavioral Sciences</td>\n",
       "      <td>1</td>\n",
       "      <td>0</td>\n",
       "      <td>4277</td>\n",
       "      <td>4623</td>\n",
       "      <td>0.92516</td>\n",
       "    </tr>\n",
       "  </tbody>\n",
       "</table>\n",
       "</div>"
      ],
      "text/plain": [
       "   scopus_id                                         title_name  active  \\\n",
       "0      12001   Journal of the Experimental Analysis of Behavior       1   \n",
       "1      12002  Journal of the History of the Behavioral Sciences       1   \n",
       "\n",
       "   open_access  scihub  crossref  coverage  \n",
       "0            0    2562      4400   0.58227  \n",
       "1            0    4277      4623   0.92516  "
      ]
     },
     "execution_count": 4,
     "metadata": {},
     "output_type": "execute_result"
    }
   ],
   "source": [
    "url = config['scihub_url'] + 'data/journal-coverage.tsv'\n",
    "journal_df = pandas.read_table(url)\n",
    "assert not journal_df.scopus_id.duplicated().any()\n",
    "journal_df.head(2)"
   ]
  },
  {
   "cell_type": "code",
   "execution_count": 5,
   "metadata": {},
   "outputs": [
    {
     "data": {
      "text/html": [
       "<div>\n",
       "<style>\n",
       "    .dataframe thead tr:only-child th {\n",
       "        text-align: right;\n",
       "    }\n",
       "\n",
       "    .dataframe thead th {\n",
       "        text-align: left;\n",
       "    }\n",
       "\n",
       "    .dataframe tbody tr th {\n",
       "        vertical-align: top;\n",
       "    }\n",
       "</style>\n",
       "<table border=\"1\" class=\"dataframe\">\n",
       "  <thead>\n",
       "    <tr style=\"text-align: right;\">\n",
       "      <th></th>\n",
       "      <th>scopus_id</th>\n",
       "      <th>title_name</th>\n",
       "      <th>active</th>\n",
       "      <th>open_access</th>\n",
       "      <th>scihub</th>\n",
       "      <th>crossref</th>\n",
       "      <th>coverage</th>\n",
       "      <th>homepage</th>\n",
       "    </tr>\n",
       "  </thead>\n",
       "  <tbody>\n",
       "    <tr>\n",
       "      <th>0</th>\n",
       "      <td>12001</td>\n",
       "      <td>Journal of the Experimental Analysis of Behavior</td>\n",
       "      <td>1</td>\n",
       "      <td>0</td>\n",
       "      <td>2562</td>\n",
       "      <td>4400</td>\n",
       "      <td>0.58227</td>\n",
       "      <td>http://seab.envmed.rochester.edu/jeab/index.html</td>\n",
       "    </tr>\n",
       "    <tr>\n",
       "      <th>1</th>\n",
       "      <td>12002</td>\n",
       "      <td>Journal of the History of the Behavioral Sciences</td>\n",
       "      <td>1</td>\n",
       "      <td>0</td>\n",
       "      <td>4277</td>\n",
       "      <td>4623</td>\n",
       "      <td>0.92516</td>\n",
       "      <td>http://www.interscience.wiley.com/jpages/0022-...</td>\n",
       "    </tr>\n",
       "  </tbody>\n",
       "</table>\n",
       "</div>"
      ],
      "text/plain": [
       "   scopus_id                                         title_name  active  \\\n",
       "0      12001   Journal of the Experimental Analysis of Behavior       1   \n",
       "1      12002  Journal of the History of the Behavioral Sciences       1   \n",
       "\n",
       "   open_access  scihub  crossref  coverage  \\\n",
       "0            0    2562      4400   0.58227   \n",
       "1            0    4277      4623   0.92516   \n",
       "\n",
       "                                            homepage  \n",
       "0   http://seab.envmed.rochester.edu/jeab/index.html  \n",
       "1  http://www.interscience.wiley.com/jpages/0022-...  "
      ]
     },
     "execution_count": 5,
     "metadata": {},
     "output_type": "execute_result"
    }
   ],
   "source": [
    "url = config['scopus_url'] + 'data/homepages/scopus-homepages.tsv'\n",
    "homepage_df = pandas.read_table(url).drop_duplicates('scopus_id')\n",
    "journal_df = journal_df.merge(homepage_df, how='left')\n",
    "journal_df.head(2)"
   ]
  },
  {
   "cell_type": "code",
   "execution_count": 6,
   "metadata": {},
   "outputs": [
    {
     "data": {
      "text/html": [
       "<div>\n",
       "<style>\n",
       "    .dataframe thead tr:only-child th {\n",
       "        text-align: right;\n",
       "    }\n",
       "\n",
       "    .dataframe thead th {\n",
       "        text-align: left;\n",
       "    }\n",
       "\n",
       "    .dataframe tbody tr th {\n",
       "        vertical-align: top;\n",
       "    }\n",
       "</style>\n",
       "<table border=\"1\" class=\"dataframe\">\n",
       "  <thead>\n",
       "    <tr style=\"text-align: right;\">\n",
       "      <th></th>\n",
       "      <th>scopus_id</th>\n",
       "      <th>title_name</th>\n",
       "      <th>active</th>\n",
       "      <th>open_access</th>\n",
       "      <th>main_publisher</th>\n",
       "      <th>downloads</th>\n",
       "      <th>visitors</th>\n",
       "      <th>countries</th>\n",
       "      <th>days</th>\n",
       "      <th>months</th>\n",
       "      <th>n_articles_requested</th>\n",
       "      <th>n_articles</th>\n",
       "    </tr>\n",
       "  </thead>\n",
       "  <tbody>\n",
       "    <tr>\n",
       "      <th>0</th>\n",
       "      <td>12001</td>\n",
       "      <td>Journal of the Experimental Analysis of Behavior</td>\n",
       "      <td>1</td>\n",
       "      <td>0</td>\n",
       "      <td>Wiley-Blackwell</td>\n",
       "      <td>0.59783</td>\n",
       "      <td>0.55435</td>\n",
       "      <td>0.44565</td>\n",
       "      <td>0.57609</td>\n",
       "      <td>0.43478</td>\n",
       "      <td>26</td>\n",
       "      <td>92</td>\n",
       "    </tr>\n",
       "    <tr>\n",
       "      <th>1</th>\n",
       "      <td>12002</td>\n",
       "      <td>Journal of the History of the Behavioral Sciences</td>\n",
       "      <td>1</td>\n",
       "      <td>0</td>\n",
       "      <td>Wiley-Blackwell</td>\n",
       "      <td>0.16346</td>\n",
       "      <td>0.16346</td>\n",
       "      <td>0.14423</td>\n",
       "      <td>0.14423</td>\n",
       "      <td>0.13462</td>\n",
       "      <td>13</td>\n",
       "      <td>104</td>\n",
       "    </tr>\n",
       "  </tbody>\n",
       "</table>\n",
       "</div>"
      ],
      "text/plain": [
       "   scopus_id                                         title_name  active  \\\n",
       "0      12001   Journal of the Experimental Analysis of Behavior       1   \n",
       "1      12002  Journal of the History of the Behavioral Sciences       1   \n",
       "\n",
       "   open_access   main_publisher  downloads  visitors  countries     days  \\\n",
       "0            0  Wiley-Blackwell    0.59783   0.55435    0.44565  0.57609   \n",
       "1            0  Wiley-Blackwell    0.16346   0.16346    0.14423  0.14423   \n",
       "\n",
       "    months  n_articles_requested  n_articles  \n",
       "0  0.43478                    26          92  \n",
       "1  0.13462                    13         104  "
      ]
     },
     "execution_count": 6,
     "metadata": {},
     "output_type": "execute_result"
    }
   ],
   "source": [
    "url = config['scihub_url'] + 'data/scihub-log-journal-averages.tsv.xz'\n",
    "log_df = pandas.read_table(url)\n",
    "log_df = log_df.drop_duplicates('scopus_id')\n",
    "log_df.head(2)"
   ]
  },
  {
   "cell_type": "code",
   "execution_count": 7,
   "metadata": {},
   "outputs": [
    {
     "data": {
      "text/plain": [
       "{'countries': 0.00512,\n",
       " 'days': 0.00512,\n",
       " 'downloads': 0.00512,\n",
       " 'months': 0.00512,\n",
       " 'n_articles': 976,\n",
       " 'n_articles_requested': 5,\n",
       " 'visitors': 0.00512}"
      ]
     },
     "execution_count": 7,
     "metadata": {},
     "output_type": "execute_result"
    }
   ],
   "source": [
    "scopus_to_log_summary = json.loads(\n",
    "    log_df\n",
    "    .round(5)\n",
    "    .set_index('scopus_id')\n",
    "    .loc[:, 'downloads':'n_articles']\n",
    "    .to_json(orient='index', double_precision=8)\n",
    ")\n",
    "\n",
    "# PeerJ\n",
    "scopus_to_log_summary['21100239256']"
   ]
  },
  {
   "cell_type": "code",
   "execution_count": 8,
   "metadata": {},
   "outputs": [
    {
     "data": {
      "text/plain": [
       "23037"
      ]
     },
     "execution_count": 8,
     "metadata": {},
     "output_type": "execute_result"
    }
   ],
   "source": [
    "journal_infos = json.loads(journal_df.to_json(orient='records', double_precision=8))\n",
    "len(journal_infos)"
   ]
  },
  {
   "cell_type": "code",
   "execution_count": 9,
   "metadata": {
    "collapsed": true
   },
   "outputs": [],
   "source": [
    "for journal_info in journal_infos:\n",
    "    scopus_id = journal_info['scopus_id']\n",
    "\n",
    "    for key, value in list(journal_info.items()):\n",
    "        # Delete key-value pairs with missing value\n",
    "        if pandas.isnull(value):\n",
    "            del journal_info[key]\n",
    "\n",
    "    # Add access log summary if existent\n",
    "    if str(scopus_id) in scopus_to_log_summary:\n",
    "        journal_info['access_logs'] = scopus_to_log_summary[str(scopus_id)]\n",
    "\n",
    "    # Export as JSON\n",
    "    journal_dir = get_journal_dir(scopus_id)\n",
    "    path = journal_dir.joinpath(f'info-{scopus_id}.json')\n",
    "    with path.open('w') as write_file:\n",
    "        json.dump(journal_info, write_file, indent=2)"
   ]
  },
  {
   "cell_type": "code",
   "execution_count": 10,
   "metadata": {
    "scrolled": true
   },
   "outputs": [
    {
     "name": "stdout",
     "output_type": "stream",
     "text": [
      "{\n",
      "  \"scopus_id\": 12001,\n",
      "  \"title_name\": \"Journal of the Experimental Analysis of Behavior\",\n",
      "  \"active\": 1,\n",
      "  \"open_access\": 0,\n",
      "  \"scihub\": 2562,\n",
      "  \"crossref\": 4400,\n",
      "  \"coverage\": 0.58227,\n",
      "  \"homepage\": \"http://seab.envmed.rochester.edu/jeab/index.html\",\n",
      "  \"access_logs\": {\n",
      "    \"downloads\": 0.59783,\n",
      "    \"visitors\": 0.55435,\n",
      "    \"countries\": 0.44565,\n",
      "    \"days\": 0.57609,\n",
      "    \"months\": 0.43478,\n",
      "    \"n_articles_requested\": 26,\n",
      "    \"n_articles\": 92\n",
      "  }\n",
      "}\n"
     ]
    }
   ],
   "source": [
    "# Show first record\n",
    "print(json.dumps(journal_infos[0], indent=2))"
   ]
  },
  {
   "cell_type": "markdown",
   "metadata": {},
   "source": [
    "## Yearly coverage by journal"
   ]
  },
  {
   "cell_type": "code",
   "execution_count": 11,
   "metadata": {},
   "outputs": [
    {
     "data": {
      "text/html": [
       "<div>\n",
       "<style>\n",
       "    .dataframe thead tr:only-child th {\n",
       "        text-align: right;\n",
       "    }\n",
       "\n",
       "    .dataframe thead th {\n",
       "        text-align: left;\n",
       "    }\n",
       "\n",
       "    .dataframe tbody tr th {\n",
       "        vertical-align: top;\n",
       "    }\n",
       "</style>\n",
       "<table border=\"1\" class=\"dataframe\">\n",
       "  <thead>\n",
       "    <tr style=\"text-align: right;\">\n",
       "      <th></th>\n",
       "      <th>scopus_id</th>\n",
       "      <th>year</th>\n",
       "      <th>scihub</th>\n",
       "      <th>crossref</th>\n",
       "      <th>coverage</th>\n",
       "    </tr>\n",
       "  </thead>\n",
       "  <tbody>\n",
       "    <tr>\n",
       "      <th>0</th>\n",
       "      <td>12001</td>\n",
       "      <td>1958</td>\n",
       "      <td>30</td>\n",
       "      <td>52</td>\n",
       "      <td>0.57692</td>\n",
       "    </tr>\n",
       "    <tr>\n",
       "      <th>1</th>\n",
       "      <td>12001</td>\n",
       "      <td>1959</td>\n",
       "      <td>18</td>\n",
       "      <td>36</td>\n",
       "      <td>0.50000</td>\n",
       "    </tr>\n",
       "  </tbody>\n",
       "</table>\n",
       "</div>"
      ],
      "text/plain": [
       "   scopus_id  year  scihub  crossref  coverage\n",
       "0      12001  1958      30        52   0.57692\n",
       "1      12001  1959      18        36   0.50000"
      ]
     },
     "execution_count": 11,
     "metadata": {},
     "output_type": "execute_result"
    }
   ],
   "source": [
    "url = config['scihub_url'] + 'data/journal-year-coverage.tsv.xz'\n",
    "journal_year_df = pandas.read_table(url, compression='xz')\n",
    "journal_year_df.head(2)"
   ]
  },
  {
   "cell_type": "code",
   "execution_count": 12,
   "metadata": {},
   "outputs": [],
   "source": [
    "for scopus_id, year_df in journal_year_df.groupby('scopus_id'):\n",
    "    journal_dir = get_journal_dir(scopus_id)\n",
    "    path = journal_dir.joinpath(f'yearly-coverage-{scopus_id}.tsv')\n",
    "    year_df = year_df[['year', 'scihub', 'crossref']]\n",
    "    year_df.to_csv(str(path), sep='\\t', index=False)"
   ]
  },
  {
   "cell_type": "markdown",
   "metadata": {},
   "source": [
    "## Article access quantiles (as per Sci-Hub access logs)"
   ]
  },
  {
   "cell_type": "code",
   "execution_count": 13,
   "metadata": {},
   "outputs": [
    {
     "data": {
      "text/html": [
       "<div>\n",
       "<style>\n",
       "    .dataframe thead tr:only-child th {\n",
       "        text-align: right;\n",
       "    }\n",
       "\n",
       "    .dataframe thead th {\n",
       "        text-align: left;\n",
       "    }\n",
       "\n",
       "    .dataframe tbody tr th {\n",
       "        vertical-align: top;\n",
       "    }\n",
       "</style>\n",
       "<table border=\"1\" class=\"dataframe\">\n",
       "  <thead>\n",
       "    <tr style=\"text-align: right;\">\n",
       "      <th></th>\n",
       "      <th>scopus_id</th>\n",
       "      <th>quantile</th>\n",
       "      <th>downloads</th>\n",
       "      <th>visitors</th>\n",
       "      <th>countries</th>\n",
       "      <th>days</th>\n",
       "      <th>months</th>\n",
       "    </tr>\n",
       "  </thead>\n",
       "  <tbody>\n",
       "    <tr>\n",
       "      <th>0</th>\n",
       "      <td>12001</td>\n",
       "      <td>0.00</td>\n",
       "      <td>0.0</td>\n",
       "      <td>0.0</td>\n",
       "      <td>0.0</td>\n",
       "      <td>0.0</td>\n",
       "      <td>0.0</td>\n",
       "    </tr>\n",
       "    <tr>\n",
       "      <th>1</th>\n",
       "      <td>12001</td>\n",
       "      <td>0.01</td>\n",
       "      <td>0.0</td>\n",
       "      <td>0.0</td>\n",
       "      <td>0.0</td>\n",
       "      <td>0.0</td>\n",
       "      <td>0.0</td>\n",
       "    </tr>\n",
       "  </tbody>\n",
       "</table>\n",
       "</div>"
      ],
      "text/plain": [
       "   scopus_id  quantile  downloads  visitors  countries  days  months\n",
       "0      12001      0.00        0.0       0.0        0.0   0.0     0.0\n",
       "1      12001      0.01        0.0       0.0        0.0   0.0     0.0"
      ]
     },
     "execution_count": 13,
     "metadata": {},
     "output_type": "execute_result"
    }
   ],
   "source": [
    "url = config['scihub_url'] + 'data/scihub-log-journal-quantiles.tsv.xz'\n",
    "quantiles_df = pandas.read_table(url, compression='xz')\n",
    "quantiles_df.head(2)"
   ]
  },
  {
   "cell_type": "code",
   "execution_count": 14,
   "metadata": {
    "collapsed": true
   },
   "outputs": [],
   "source": [
    "for scopus_id, quantile_df in quantiles_df.groupby('scopus_id'):\n",
    "    journal_dir = get_journal_dir(scopus_id)\n",
    "    path = journal_dir.joinpath(f'access-quantiles-{scopus_id}.tsv')\n",
    "    quantile_df = quantile_df[['quantile', 'downloads', 'visitors', 'countries', 'days']]\n",
    "    quantile_df.to_csv(str(path), sep='\\t', index=False)"
   ]
  },
  {
   "cell_type": "markdown",
   "metadata": {},
   "source": [
    "## Top accessed articles per journal (as per Sci-Hub access logs)"
   ]
  },
  {
   "cell_type": "code",
   "execution_count": 15,
   "metadata": {},
   "outputs": [
    {
     "data": {
      "text/html": [
       "<div>\n",
       "<style>\n",
       "    .dataframe thead tr:only-child th {\n",
       "        text-align: right;\n",
       "    }\n",
       "\n",
       "    .dataframe thead th {\n",
       "        text-align: left;\n",
       "    }\n",
       "\n",
       "    .dataframe tbody tr th {\n",
       "        vertical-align: top;\n",
       "    }\n",
       "</style>\n",
       "<table border=\"1\" class=\"dataframe\">\n",
       "  <thead>\n",
       "    <tr style=\"text-align: right;\">\n",
       "      <th></th>\n",
       "      <th>scopus_id</th>\n",
       "      <th>doi</th>\n",
       "      <th>downloads</th>\n",
       "      <th>visitors</th>\n",
       "      <th>countries</th>\n",
       "      <th>days</th>\n",
       "      <th>months</th>\n",
       "      <th>issued</th>\n",
       "      <th>authors</th>\n",
       "      <th>title</th>\n",
       "      <th>year</th>\n",
       "    </tr>\n",
       "  </thead>\n",
       "  <tbody>\n",
       "    <tr>\n",
       "      <th>0</th>\n",
       "      <td>12001</td>\n",
       "      <td>10.1002/jeab.135</td>\n",
       "      <td>6</td>\n",
       "      <td>6</td>\n",
       "      <td>4</td>\n",
       "      <td>6</td>\n",
       "      <td>4</td>\n",
       "      <td>2015-02-04</td>\n",
       "      <td>Rogelio Escobar, Carlos A. Pérez-Herrera</td>\n",
       "      <td>Low-cost USB interface for operant research us...</td>\n",
       "      <td>2015</td>\n",
       "    </tr>\n",
       "    <tr>\n",
       "      <th>1</th>\n",
       "      <td>12001</td>\n",
       "      <td>10.1002/jeab.150</td>\n",
       "      <td>5</td>\n",
       "      <td>5</td>\n",
       "      <td>2</td>\n",
       "      <td>5</td>\n",
       "      <td>3</td>\n",
       "      <td>2015-04-17</td>\n",
       "      <td>William F. Perez, Adriana P. Fidalgo, Roberta ...</td>\n",
       "      <td>The transfer of Cfunc contextual control throu...</td>\n",
       "      <td>2015</td>\n",
       "    </tr>\n",
       "  </tbody>\n",
       "</table>\n",
       "</div>"
      ],
      "text/plain": [
       "   scopus_id               doi  downloads  visitors  countries  days  months  \\\n",
       "0      12001  10.1002/jeab.135          6         6          4     6       4   \n",
       "1      12001  10.1002/jeab.150          5         5          2     5       3   \n",
       "\n",
       "       issued                                            authors  \\\n",
       "0  2015-02-04           Rogelio Escobar, Carlos A. Pérez-Herrera   \n",
       "1  2015-04-17  William F. Perez, Adriana P. Fidalgo, Roberta ...   \n",
       "\n",
       "                                               title  year  \n",
       "0  Low-cost USB interface for operant research us...  2015  \n",
       "1  The transfer of Cfunc contextual control throu...  2015  "
      ]
     },
     "execution_count": 15,
     "metadata": {},
     "output_type": "execute_result"
    }
   ],
   "source": [
    "url = config['scihub_url'] + 'data/scihub-log-journal-top-articles.tsv.xz'\n",
    "top_articles_df = pandas.read_table(url, compression='xz')\n",
    "top_articles_df['year'] = top_articles_df.issued.str.slice(0, 4)\n",
    "top_articles_df.head(2)"
   ]
  },
  {
   "cell_type": "code",
   "execution_count": 16,
   "metadata": {
    "collapsed": true
   },
   "outputs": [],
   "source": [
    "for scopus_id, top_df in top_articles_df.groupby('scopus_id'):\n",
    "    journal_dir = get_journal_dir(scopus_id)\n",
    "    path = journal_dir.joinpath(f'top-articles-{scopus_id}.tsv')\n",
    "    top_df = top_df[['doi', 'title', 'authors', 'year', 'downloads', 'visitors', 'countries']]\n",
    "    top_df.to_csv(str(path), sep='\\t', index=False)"
   ]
  }
 ],
 "metadata": {
  "anaconda-cloud": {},
  "kernelspec": {
   "display_name": "Python [conda env:scihub]",
   "language": "python",
   "name": "conda-env-scihub-py"
  },
  "language_info": {
   "codemirror_mode": {
    "name": "ipython",
    "version": 3
   },
   "file_extension": ".py",
   "mimetype": "text/x-python",
   "name": "python",
   "nbconvert_exporter": "python",
   "pygments_lexer": "ipython3",
   "version": "3.6.0"
  }
 },
 "nbformat": 4,
 "nbformat_minor": 2
}
